{
 "cells": [
  {
   "cell_type": "markdown",
   "metadata": {},
   "source": [
    "# Markdown Practice\n",
    "Đây là một đoạn văn với nội dung tùy chọn.  \n",
    "\n",
    "Đây là câu thứ hai trong đoạn văn vừa tạo."
   ]
  },
  {
   "cell_type": "markdown",
   "metadata": {},
   "source": [
    "# [Markdown](https://www.markdownguide.org/) Practice\n",
    "**Đây là một đoạn văn với nội dung tùy chọn.**  \n",
    "_Đây là câu thứ hai trong đoạn văn vừa tạo._"
   ]
  },
  {
   "cell_type": "markdown",
   "metadata": {},
   "source": [
    "1. Học Data Science\n",
    "2. Học Machine Learning\n",
    "3. Học Deep Learning\n",
    "* Tăng kiến thức\n",
    "* Tăng trải nghiệm\n",
    "* Tăng lương"
   ]
  },
  {
   "cell_type": "markdown",
   "metadata": {},
   "source": [
    "![](image.png)\n",
    "**Hình ảnh minh họa cho việc học AI**"
   ]
  },
  {
   "cell_type": "markdown",
   "metadata": {},
   "source": [
    "|STT|Tác giả|Tác phẩm|\n",
    "|---|-------|--------|\n",
    "|1|Agatha Christie|The ABC murders|\n",
    "|2|Emily Bronte|Wuthering Heights|\n",
    "\n",
    "\"Có công mài sắt, có ngày nên kim.\" - Nhân gian\n"
   ]
  }
 ],
 "metadata": {
  "language_info": {
   "name": "python"
  }
 },
 "nbformat": 4,
 "nbformat_minor": 2
}
